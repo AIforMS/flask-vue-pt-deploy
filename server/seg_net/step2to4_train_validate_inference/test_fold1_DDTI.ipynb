{
 "cells": [
  {
   "cell_type": "code",
   "execution_count": 1,
   "metadata": {
    "collapsed": false
   },
   "outputs": [
    {
     "name": "stderr",
     "output_type": "stream",
     "text": [
      "/LAOAWNG/git/TN_SCUI_test/step2to4_train_validate_inference/segmentation_models_pytorch_4TorchLessThan120/__init__.py:14: UserWarning: segmentation_models_pytorch_4TorchLessThan120 does not suppose timm_efficientnet_encoders\n  warnings.warn('segmentation_models_pytorch_4TorchLessThan120 does not suppose timm_efficientnet_encoders')\n"
     ]
    },
    {
     "name": "stdout",
     "output_type": "stream",
     "text": [
      "  \n /media/root/ESD-USB/DDTI/1_or_data/image/10006.PNG 1 / 129  c1: 256  c2:  512\n"
     ]
    },
    {
     "name": "stdout",
     "output_type": "stream",
     "text": [
      "self.n 8\nc1 outputsize: (256, 256)\nuse cascade2\n"
     ]
    },
    {
     "name": "stdout",
     "output_type": "stream",
     "text": [
      "self.n 8\n0.5\n[0. 1.]\n6874.0\n[0. 1.]\n7109.0\nIOU: 0.9143463271129214\nIOU_final 0.9143463271129214\nDSC: 0.9552569607317317\nDSC_final 0.9552569607317317\n  \n /media/root/ESD-USB/DDTI/1_or_data/image/10008.PNG 2 / 129  c1: 256  c2:  512\n"
     ]
    },
    {
     "name": "stdout",
     "output_type": "stream",
     "text": [
      "self.n 8\nc1 outputsize: (256, 256)\nuse cascade2\n"
     ]
    },
    {
     "name": "stdout",
     "output_type": "stream",
     "text": [
      "self.n 8\n0.5\n[0. 1.]\n5236.0\n[0. 1.]\n5991.0\nIOU: 0.45361623041245036\nIOU_final 0.6839812787626859\nDSC: 0.62412103129\nDSC_final 0.7896889960108658\n  \n /media/root/ESD-USB/DDTI/1_or_data/image/10023.PNG 3 / 129  c1: 256  c2:  512\n"
     ]
    },
    {
     "name": "stdout",
     "output_type": "stream",
     "text": [
      "self.n 8\nc1 outputsize: (256, 256)\nuse cascade2\n"
     ]
    },
    {
     "name": "stdout",
     "output_type": "stream",
     "text": [
      "self.n 8\n0.5\n[0. 1.]\n3047.0\n[0. 1.]\n3487.0\nIOU: 0.0\nIOU_final 0.4559875191751239\nDSC: 0.0\nDSC_final 0.5264593306739106\n  \n /media/root/ESD-USB/DDTI/1_or_data/image/10033.PNG 4 / 129  c1: 256  c2:  512\n"
     ]
    },
    {
     "name": "stdout",
     "output_type": "stream",
     "text": [
      "self.n 8\nc1 outputsize: (256, 256)\nuse cascade2\n"
     ]
    },
    {
     "name": "stdout",
     "output_type": "stream",
     "text": [
      "self.n 8\n0.5\n[0. 1.]\n28716.0\n[0. 1.]\n32386.0\nIOU: 0.42070708626142134\nIOU_final 0.44716741094669826\nDSC: 0.5922502820317571\nDSC_final 0.5429070685133722\n  \n /media/root/ESD-USB/DDTI/1_or_data/image/10040.PNG 5 / 129  c1: 256  c2:  512\n"
     ]
    },
    {
     "name": "stdout",
     "output_type": "stream",
     "text": [
      "self.n 8\nc1 outputsize: (256, 256)\nuse cascade2\n"
     ]
    },
    {
     "name": "stdout",
     "output_type": "stream",
     "text": [
      "self.n 8\n0.5\n[0. 1.]\n8938.0\n[0. 1.]\n10209.0\nIOU: 0.928977546407538\nIOU_final 0.5435294380388662\nDSC: 0.9631812958503682\nDSC_final 0.6269619139807714\n  \n /media/root/ESD-USB/DDTI/1_or_data/image/10045.PNG 6 / 129  c1: 256  c2:  512\n"
     ]
    },
    {
     "name": "stdout",
     "output_type": "stream",
     "text": [
      "self.n 8\nc1 outputsize: (256, 256)\nuse cascade2\n"
     ]
    },
    {
     "name": "stdout",
     "output_type": "stream",
     "text": [
      "self.n 8\n0.5\n[0. 1.]\n2733.0\n[0. 1.]\n3794.0\nIOU: 0.8489173226257586\nIOU_final 0.5944274188033483\nDSC: 0.9182858662605422\nDSC_final 0.6755159060274\n  \n /media/root/ESD-USB/DDTI/1_or_data/image/10048.PNG 7 / 129  c1: 256  c2:  512\n"
     ]
    },
    {
     "name": "stdout",
     "output_type": "stream",
     "text": [
      "self.n 8\nc1 outputsize: (256, 256)\nuse cascade2\n"
     ]
    },
    {
     "name": "stdout",
     "output_type": "stream",
     "text": [
      "self.n 8\n0.5\n[0. 1.]\n14791.0\n[0. 1.]\n16888.0\nIOU: 0.8807003715301936\nIOU_final 0.6353235549071833\nDSC: 0.9365663822500654\nDSC_final 0.7128088312020664\n  \n /media/root/ESD-USB/DDTI/1_or_data/image/10054.PNG 8 / 129  c1: 256  c2:  512\n"
     ]
    },
    {
     "name": "stdout",
     "output_type": "stream",
     "text": [
      "self.n 8\nc1 outputsize: (256, 256)\nuse cascade2\n"
     ]
    },
    {
     "name": "stdout",
     "output_type": "stream",
     "text": [
      "self.n 8\n0.5\n[0. 1.]\n7215.0\n[0. 1.]\n8605.0\nIOU: 0.5726902962727843\nIOU_final 0.6274943975778835\nDSC: 0.7282938002860937\nDSC_final 0.7147444523375698\n  \n /media/root/ESD-USB/DDTI/1_or_data/image/10095.PNG 9 / 129  c1: 256  c2:  512\n"
     ]
    },
    {
     "name": "stdout",
     "output_type": "stream",
     "text": [
      "self.n 8\nc1 outputsize: (256, 256)\nuse cascade2\n"
     ]
    },
    {
     "name": "stdout",
     "output_type": "stream",
     "text": [
      "self.n 8\n0.5\n[0. 1.]\n6530.0\n[0. 1.]\n7455.0\nIOU: 0.8150968752586967\nIOU_final 0.648339117320196\nDSC: 0.8981304374098765\nDSC_final 0.7351206729011595\n  \n /media/root/ESD-USB/DDTI/1_or_data/image/10099.PNG 10 / 129  c1: 256  c2:  512\n"
     ]
    },
    {
     "name": "stdout",
     "output_type": "stream",
     "text": [
      "self.n 8\nc1 outputsize: (256, 256)\nuse cascade2\n"
     ]
    },
    {
     "name": "stdout",
     "output_type": "stream",
     "text": [
      "self.n 8\n0.5\n[0. 1.]\n11263.0\n[0. 1.]\n12856.0\nIOU: 0.89712051184521\nIOU_final 0.6732172567726974\nDSC: 0.9457707154013503\nDSC_final 0.7561856771511785\n  \n /media/root/ESD-USB/DDTI/1_or_data/image/101.PNG 11 / 129  c1: 256  c2:  512\n"
     ]
    },
    {
     "name": "stdout",
     "output_type": "stream",
     "text": [
      "self.n 8\nc1 outputsize: (256, 256)\nuse cascade2\n"
     ]
    },
    {
     "name": "stdout",
     "output_type": "stream",
     "text": [
      "self.n 8\n0.5\n[0. 1.]\n11093.0\n[0. 1.]\n20036.0\nIOU: 0.9162423007460961\nIOU_final 0.695310442588461\nDSC: 0.9562906532116046\nDSC_final 0.7743770386112172\n  \n /media/root/ESD-USB/DDTI/1_or_data/image/10138.PNG 12 / 129  c1: 256  c2:  512\n"
     ]
    },
    {
     "name": "stdout",
     "output_type": "stream",
     "text": [
      "self.n 8\nc1 outputsize: (256, 256)\nuse cascade2\n"
     ]
    },
    {
     "name": "stdout",
     "output_type": "stream",
     "text": [
      "self.n 8\n0.5\n[0. 1.]\n7082.0\n[0. 1.]\n8051.0\nIOU: 0.7014765100043421\nIOU_final 0.6958242815397844\nDSC: 0.8245503312914405\nDSC_final 0.7785581463345692\n  \n /media/root/ESD-USB/DDTI/1_or_data/image/10139.PNG 13 / 129  c1: 256  c2:  512\n"
     ]
    },
    {
     "name": "stdout",
     "output_type": "stream",
     "text": [
      "self.n 8\nc1 outputsize: (256, 256)\nuse cascade2\n"
     ]
    },
    {
     "name": "stdout",
     "output_type": "stream",
     "text": [
      "self.n 8\n0.5\n[0. 1.]\n3452.0\n[0. 1.]\n3679.0\nIOU: 0.8593526889911106\nIOU_final 0.7084033898052711\nDSC: 0.9243568410438555\nDSC_final 0.7897734305429759\n  \n /media/root/ESD-USB/DDTI/1_or_data/image/10157.PNG 14 / 129  c1: 256  c2:  512\n"
     ]
    },
    {
     "name": "stdout",
     "output_type": "stream",
     "text": [
      "self.n 8\nc1 outputsize: (256, 256)\nuse cascade2\n"
     ]
    },
    {
     "name": "stdout",
     "output_type": "stream",
     "text": [
      "self.n 8\n0.5\n[0. 1.]\n15383.0\n[0. 1.]\n17363.0\nIOU: 0.7153972602347728\nIOU_final 0.7089029519788069\nDSC: 0.8340893119263372\nDSC_final 0.7929388506417875\n  \n /media/root/ESD-USB/DDTI/1_or_data/image/10164.PNG 15 / 129  c1: 256  c2:  512\n"
     ]
    },
    {
     "name": "stdout",
     "output_type": "stream",
     "text": [
      "self.n 8\nc1 outputsize: (256, 256)\nuse cascade2\n"
     ]
    },
    {
     "name": "stdout",
     "output_type": "stream",
     "text": [
      "self.n 8\n0.5\n[0. 1.]\n10122.0\n[0. 1.]\n11548.0\nIOU: 0.88401753679681\nIOU_final 0.7205772576333405\nDSC: 0.9384387560423761\nDSC_final 0.8026388443351601\n  \n /media/root/ESD-USB/DDTI/1_or_data/image/10167.PNG 16 / 129  c1: 256  c2:  512\n"
     ]
    },
    {
     "name": "stdout",
     "output_type": "stream",
     "text": [
      "self.n 8\nc1 outputsize: (256, 256)\nuse cascade2\n"
     ]
    },
    {
     "name": "stdout",
     "output_type": "stream",
     "text": [
      "self.n 8\n0.5\n[0. 1.]\n20421.0\n[0. 1.]\n21285.0\nIOU: 0.9043805730714058\nIOU_final 0.7320649648482195\nDSC: 0.9497897488135063\nDSC_final 0.8118357758650566\n  \n /media/root/ESD-USB/DDTI/1_or_data/image/10174.PNG 17 / 129  c1: 256  c2:  512\n"
     ]
    },
    {
     "name": "stdout",
     "output_type": "stream",
     "text": [
      "self.n 8\nc1 outputsize: (256, 256)\nuse cascade2\n"
     ]
    },
    {
     "name": "stdout",
     "output_type": "stream",
     "text": [
      "self.n 8\n0.5\n[0. 1.]\n21415.0\n[0. 1.]\n24154.0\nIOU: 0.9283133003013467\nIOU_final 0.7436089845807564\nDSC: 0.9628241428986408\nDSC_final 0.820717444514091\n  \n /media/root/ESD-USB/DDTI/1_or_data/image/10186.PNG 18 / 129  c1: 256  c2:  512\n"
     ]
    },
    {
     "name": "stdout",
     "output_type": "stream",
     "text": [
      "self.n 8\nc1 outputsize: (256, 256)\nuse cascade2\n"
     ]
    },
    {
     "name": "stdout",
     "output_type": "stream",
     "text": [
      "self.n 8\n0.5\n[0. 1.]\n9619.0\n[0. 1.]\n10836.0\nIOU: 0.7541372808634775\nIOU_final 0.7441938899297965\nDSC: 0.8598383821957789\nDSC_final 0.8228908299408515\n  \n /media/root/ESD-USB/DDTI/1_or_data/image/10189.PNG 19 / 129  c1: 256  c2:  512\n"
     ]
    },
    {
     "name": "stdout",
     "output_type": "stream",
     "text": [
      "self.n 8\nc1 outputsize: (256, 256)\nuse cascade2\n"
     ]
    },
    {
     "name": "stdout",
     "output_type": "stream",
     "text": [
      "self.n 8\n0.5\n[0. 1.]\n3310.0\n[0. 1.]\n3784.0\nIOU: 0.8830379744599904\nIOU_final 0.7515014733261225\nDSC: 0.9378865285106364\nDSC_final 0.8289432351287349\n  \n /media/root/ESD-USB/DDTI/1_or_data/image/10191.PNG 20 / 129  c1: 256  c2:  512\n"
     ]
    },
    {
     "name": "stdout",
     "output_type": "stream",
     "text": [
      "self.n 8\nc1 outputsize: (256, 256)\nuse cascade2\n"
     ]
    },
    {
     "name": "stdout",
     "output_type": "stream",
     "text": [
      "self.n 8\n0.5\n[0. 1.]\n11079.0\n[0. 1.]\n12634.0\nIOU: 0.8221028172507913\nIOU_final 0.7550315405223559\nDSC: 0.9023670996691493\nDSC_final 0.8326144283557557\n  \n /media/root/ESD-USB/DDTI/1_or_data/image/10208.PNG 21 / 129  c1: 256  c2:  512\n"
     ]
    },
    {
     "name": "stdout",
     "output_type": "stream",
     "text": [
      "self.n 8\nc1 outputsize: (256, 256)\nuse cascade2\n"
     ]
    },
    {
     "name": "stdout",
     "output_type": "stream",
     "text": [
      "self.n 8\n0.5\n[0. 1.]\n9666.0\n[0. 1.]\n11027.0\nIOU: 0.6633096127931908\nIOU_final 0.75066382967811\nDSC: 0.7975780428266713\nDSC_final 0.8309460290448469\n  \n /media/root/ESD-USB/DDTI/1_or_data/image/10216.PNG 22 / 129  c1: 256  c2:  512\n"
     ]
    },
    {
     "name": "stdout",
     "output_type": "stream",
     "text": [
      "self.n 8\nc1 outputsize: (256, 256)\nuse cascade2\n"
     ]
    },
    {
     "name": "stdout",
     "output_type": "stream",
     "text": [
      "self.n 8\n0.5\n[0. 1.]\n5046.0\n[0. 1.]\n5741.0\nIOU: 0.6562197482264981\nIOU_final 0.7463709168848549\nDSC: 0.7924307736689975\nDSC_final 0.829195335618672\n  \n /media/root/ESD-USB/DDTI/1_or_data/image/10219.PNG 23 / 129  c1: 256  c2:  512\n"
     ]
    },
    {
     "name": "stdout",
     "output_type": "stream",
     "text": [
      "self.n 8\nc1 outputsize: (256, 256)\nuse cascade2\n"
     ]
    },
    {
     "name": "stdout",
     "output_type": "stream",
     "text": [
      "self.n 8\n0.5\n[0. 1.]\n5318.0\n[0. 1.]\n6079.0\nIOU: 0.5468062508653002\nIOU_final 0.737694192275309\nDSC: 0.7070132417158398\nDSC_final 0.8238830706663748\n  \n /media/root/ESD-USB/DDTI/1_or_data/image/10242.PNG 24 / 129  c1: 256  c2:  512\n"
     ]
    },
    {
     "name": "stdout",
     "output_type": "stream",
     "text": [
      "self.n 8\nc1 outputsize: (256, 256)\nuse cascade2\n"
     ]
    },
    {
     "name": "stdout",
     "output_type": "stream",
     "text": [
      "self.n 8\n0.5\n[0. 1.]\n4895.0\n[0. 1.]\n5602.0\nIOU: 0.8075687253110373\nIOU_final 0.7406056311517976\nDSC: 0.8935413785410289\nDSC_final 0.826785500161152\n  \n /media/root/ESD-USB/DDTI/1_or_data/image/10416.PNG 25 / 129  c1: 256  c2:  512\n"
     ]
    },
    {
     "name": "stdout",
     "output_type": "stream",
     "text": [
      "self.n 8\nc1 outputsize: (256, 256)\nuse cascade2\n"
     ]
    },
    {
     "name": "stdout",
     "output_type": "stream",
     "text": [
      "self.n 8\n0.5\n[0. 1.]\n17349.0\n[0. 1.]\n19807.0\nIOU: 0.8506908543636296\nIOU_final 0.7450090400802709\nDSC: 0.9193224815023407\nDSC_final 0.8304869794147995\n  \n /media/root/ESD-USB/DDTI/1_or_data/image/10452.PNG 26 / 129  c1: 256  c2:  512\n"
     ]
    },
    {
     "name": "stdout",
     "output_type": "stream",
     "text": [
      "self.n 8\nc1 outputsize: (256, 256)\nuse cascade2\n"
     ]
    },
    {
     "name": "stdout",
     "output_type": "stream",
     "text": [
      "self.n 8\n0.5\n[0. 1.]\n3050.0\n[0. 1.]\n3468.0\nIOU: 0.8856078741990935\nIOU_final 0.7504166875463795\nDSC: 0.9393340856462564\nDSC_final 0.8346734065775478\n  \n /media/root/ESD-USB/DDTI/1_or_data/image/10453.PNG 27 / 129  c1: 256  c2:  512\n"
     ]
    },
    {
     "name": "stdout",
     "output_type": "stream",
     "text": [
      "self.n 8\nc1 outputsize: (256, 256)\nuse cascade2\n"
     ]
    },
    {
     "name": "stdout",
     "output_type": "stream",
     "text": [
      "self.n 8\n0.5\n[0. 1.]\n11492.0\n[0. 1.]\n13071.0\nIOU: 0.9175832126687711\nIOU_final 0.7566080403286902\nDSC: 0.9570204897567254\nDSC_final 0.8392047800286285\n  \n /media/root/ESD-USB/DDTI/1_or_data/image/107.PNG 28 / 129  c1: 256  c2:  512\n"
     ]
    },
    {
     "name": "stdout",
     "output_type": "stream",
     "text": [
      "self.n 8\nc1 outputsize: (256, 256)\nuse cascade2\n"
     ]
    },
    {
     "name": "stdout",
     "output_type": "stream",
     "text": [
      "self.n 8\n0.5\n[0. 1.]\n4742.0\n[0. 1.]\n8567.0\nIOU: 0.9096726030809776\nIOU_final 0.7620746318555576\nDSC: 0.952700061375289\nDSC_final 0.8432581829338665\n  \n /media/root/ESD-USB/DDTI/1_or_data/image/122.PNG 29 / 129  c1: 256  c2:  512\n"
     ]
    },
    {
     "name": "stdout",
     "output_type": "stream",
     "text": [
      "self.n 8\nc1 outputsize: (256, 256)\nuse cascade2\n"
     ]
    },
    {
     "name": "stdout",
     "output_type": "stream",
     "text": [
      "self.n 8\n0.5\n[0. 1.]\n16742.0\n[0. 1.]\n26396.0\nIOU: 0.9441161261378401\nIOU_final 0.7683519247618432\nDSC: 0.9712548684150991\nDSC_final 0.847671861743564\n  \n /media/root/ESD-USB/DDTI/1_or_data/image/124.PNG 30 / 129  c1: 256  c2:  512\n"
     ]
    },
    {
     "name": "stdout",
     "output_type": "stream",
     "text": [
      "self.n 8\nc1 outputsize: (256, 256)\nuse cascade2\n"
     ]
    },
    {
     "name": "stdout",
     "output_type": "stream",
     "text": [
      "self.n 8\n0.5\n[0. 1.]\n10719.0\n[0. 1.]\n19374.0\nIOU: 0.33316284777346755\nIOU_final 0.7538456221955641\nDSC: 0.4998081792181459\nDSC_final 0.8360764056593835\n  \n /media/root/ESD-USB/DDTI/1_or_data/image/127.PNG 31 / 129  c1: 256  c2:  512\n"
     ]
    },
    {
     "name": "stdout",
     "output_type": "stream",
     "text": [
      "self.n 8\nc1 outputsize: (256, 256)\nuse cascade2\n"
     ]
    },
    {
     "name": "stdout",
     "output_type": "stream",
     "text": [
      "self.n 8\n0.5\n[0. 1.]\n17454.0\n[0. 1.]\n31553.0\nIOU: 0.6893764433970653\nIOU_final 0.7517659712665802\nDSC: 0.8161312371691886\nDSC_final 0.8354330131274417\n  \n /media/root/ESD-USB/DDTI/1_or_data/image/147.PNG 32 / 129  c1: 256  c2:  512\n"
     ]
    },
    {
     "name": "stdout",
     "output_type": "stream",
     "text": [
      "self.n 8\nc1 outputsize: (256, 256)\nuse cascade2\n"
     ]
    },
    {
     "name": "stdout",
     "output_type": "stream",
     "text": [
      "self.n 8\n0.5\n[0. 1.]\n9797.0\n[0. 1.]\n15382.0\nIOU: 0.9080756567743802\nIOU_final 0.756650648938699\nDSC: 0.9518235333597732\nDSC_final 0.8390702168847022\n  \n /media/root/ESD-USB/DDTI/1_or_data/image/150.PNG 33 / 129  c1: 256  c2:  512\n"
     ]
    },
    {
     "name": "stdout",
     "output_type": "stream",
     "text": [
      "self.n 8\nc1 outputsize: (256, 256)\nuse cascade2\n"
     ]
    },
    {
     "name": "stdout",
     "output_type": "stream",
     "text": [
      "self.n 8\n0.5\n[0. 1.]\n1108.0\n[0. 1.]\n1969.0\nIOU: 0.821938022222362\nIOU_final 0.7586290541897192\nDSC: 0.9022678183309213\nDSC_final 0.8409852957164058\n  \n /media/root/ESD-USB/DDTI/1_or_data/image/154.PNG 34 / 129  c1: 256  c2:  512\n"
     ]
    },
    {
     "name": "stdout",
     "output_type": "stream",
     "text": [
      "self.n 8\nc1 outputsize: (256, 256)\nuse cascade2\n"
     ]
    },
    {
     "name": "stdout",
     "output_type": "stream",
     "text": [
      "self.n 8\n0.5\n[0. 1.]\n15095.0\n[0. 1.]\n23812.0\nIOU: 0.9134304844067179\nIOU_final 0.7631820374313956\nDSC: 0.9547569058302507\nDSC_final 0.8443315195432836\n  \n /media/root/ESD-USB/DDTI/1_or_data/image/173.PNG 35 / 129  c1: 256  c2:  512\n"
     ]
    },
    {
     "name": "stdout",
     "output_type": "stream",
     "text": [
      "self.n 8\nc1 outputsize: (256, 256)\nuse cascade2\n"
     ]
    },
    {
     "name": "stdout",
     "output_type": "stream",
     "text": [
      "self.n 8\n0.5\n[0. 1.]\n21334.0\n[0. 1.]\n38556.0\nIOU: 0.9300531715487144\nIOU_final 0.7679497841204618\nDSC: 0.9637591184106297\nDSC_final 0.8477437366537791\n  \n /media/root/ESD-USB/DDTI/1_or_data/image/175.PNG 36 / 129  c1: 256  c2:  512\n"
     ]
    },
    {
     "name": "stdout",
     "output_type": "stream",
     "text": [
      "self.n 8\nc1 outputsize: (256, 256)\nuse cascade2\n"
     ]
    },
    {
     "name": "stdout",
     "output_type": "stream",
     "text": [
      "self.n 8\n0.5\n[0. 1.]\n9899.0\n[0. 1.]\n17892.0\nIOU: 0.8965038845229465\nIOU_final 0.7715207313538641\nDSC: 0.9454279443761396\nDSC_final 0.8504571868682891\n  \n /media/root/ESD-USB/DDTI/1_or_data/image/181.PNG 37 / 129  c1: 256  c2:  512\n"
     ]
    },
    {
     "name": "stdout",
     "output_type": "stream",
     "text": [
      "self.n 8\nc1 outputsize: (256, 256)\nuse cascade2\n"
     ]
    },
    {
     "name": "stdout",
     "output_type": "stream",
     "text": [
      "self.n 8\n0.5\n[0. 1.]\n15577.0\n[0. 1.]\n28105.0\nIOU: 0.7423576101913988\nIOU_final 0.7707325388900137\nDSC: 0.8521300172240192\nDSC_final 0.8505023984995251\n  \n /media/root/ESD-USB/DDTI/1_or_data/image/184.PNG 38 / 129  c1: 256  c2:  512\n"
     ]
    },
    {
     "name": "stdout",
     "output_type": "stream",
     "text": [
      "self.n 8\nc1 outputsize: (256, 256)\nuse cascade2\n"
     ]
    },
    {
     "name": "stdout",
     "output_type": "stream",
     "text": [
      "self.n 8\n0.5\n[0. 1.]\n12393.0\n[0. 1.]\n19557.0\nIOU: 0.8660496384921467\nIOU_final 0.7732408836163857\nDSC: 0.9282171498845597\nDSC_final 0.8525475235359733\n  \n /media/root/ESD-USB/DDTI/1_or_data/image/20004.PNG 39 / 129  c1: 256  c2:  512\n"
     ]
    },
    {
     "name": "stdout",
     "output_type": "stream",
     "text": [
      "self.n 8\nc1 outputsize: (256, 256)\nuse cascade2\n"
     ]
    },
    {
     "name": "stdout",
     "output_type": "stream",
     "text": [
      "self.n 8\n0.5\n[0. 1.]\n26555.0\n[0. 1.]\n26286.0\nIOU: 0.6441643711314983\nIOU_final 0.7699312294501065\nDSC: 0.7835766088133761\nDSC_final 0.8507790385430862\n  \n /media/root/ESD-USB/DDTI/1_or_data/image/20005.PNG 40 / 129  c1: 256  c2:  512\n"
     ]
    },
    {
     "name": "stdout",
     "output_type": "stream",
     "text": [
      "self.n 8\nc1 outputsize: (256, 256)\nuse cascade2\n"
     ]
    },
    {
     "name": "stdout",
     "output_type": "stream",
     "text": [
      "self.n 8\n0.5\n[0. 1.]\n5524.0\n[0. 1.]\n6399.0\nIOU: 0.8858120720463889\nIOU_final 0.7728282505150135\nDSC: 0.9394489357416722\nDSC_final 0.8529957859730508\n  \n /media/root/ESD-USB/DDTI/1_or_data/image/20009.PNG 41 / 129  c1: 256  c2:  512\n"
     ]
    },
    {
     "name": "stdout",
     "output_type": "stream",
     "text": [
      "self.n 8\n0\n1\nc1 outputsize: (256, 256)\nuse cascade2\n"
     ]
    },
    {
     "name": "stdout",
     "output_type": "stream",
     "text": [
      "self.n 8\n0.5\n[0. 1.]\n5567.0\n[0. 1.]\n6413.0\nIOU: 0.8073366680601278\nIOU_final 0.773669919235626\nDSC: 0.8933993121786966\nDSC_final 0.8539812378317251\n  \n /media/root/ESD-USB/DDTI/1_or_data/image/20023.PNG 42 / 129  c1: 256  c2:  512\n"
     ]
    },
    {
     "name": "stdout",
     "output_type": "stream",
     "text": [
      "self.n 8\nc1 outputsize: (256, 256)\nuse cascade2\n"
     ]
    },
    {
     "name": "stdout",
     "output_type": "stream",
     "text": [
      "self.n 8\n0.5\n[0. 1.]\n2541.0\n[0. 1.]\n2929.0\nIOU: 0.8455428064590931\nIOU_final 0.7753811784552324\nDSC: 0.9163079864632061\nDSC_final 0.8554652080372366\n  \n /media/root/ESD-USB/DDTI/1_or_data/image/20025.PNG 43 / 129  c1: 256  c2:  512\n"
     ]
    },
    {
     "name": "stdout",
     "output_type": "stream",
     "text": [
      "self.n 8\nc1 outputsize: (256, 256)\nuse cascade2\n"
     ]
    },
    {
     "name": "stdout",
     "output_type": "stream",
     "text": [
      "self.n 8\n0.5\n[0. 1.]\n2608.0\n[0. 1.]\n3004.0\nIOU: 0.8203837682225908\nIOU_final 0.7764277503102872\nDSC: 0.9013305683598876\nDSC_final 0.8565318443238099\n  \n /media/root/ESD-USB/DDTI/1_or_data/image/20034.PNG 44 / 129  c1: 256  c2:  512\n"
     ]
    },
    {
     "name": "stdout",
     "output_type": "stream",
     "text": [
      "self.n 8\nc1 outputsize: (256, 256)\nuse cascade2\n"
     ]
    },
    {
     "name": "stdout",
     "output_type": "stream",
     "text": [
      "self.n 8\n0.5\n[0. 1.]\n5937.0\n[0. 1.]\n7192.0\nIOU: 0.8692646133413872\nIOU_final 0.7785376790155394\nDSC: 0.9300605244835198\nDSC_final 0.8582029506910761\n  \n /media/root/ESD-USB/DDTI/1_or_data/image/20036.PNG 45 / 129  c1: 256  c2:  512\n"
     ]
    },
    {
     "name": "stdout",
     "output_type": "stream",
     "text": [
      "self.n 8\nc1 outputsize: (256, 256)\nuse cascade2\n"
     ]
    },
    {
     "name": "stdout",
     "output_type": "stream",
     "text": [
      "self.n 8\n0.5\n[0. 1.]\n3645.0\n[0. 1.]\n4200.0\nIOU: 0.7926063704272014\nIOU_final 0.7788503166024653\nDSC: 0.8843060958645517\nDSC_final 0.8587830205838201\n  \n /media/root/ESD-USB/DDTI/1_or_data/image/20047.PNG 46 / 129  c1: 256  c2:  512\n"
     ]
    },
    {
     "name": "stdout",
     "output_type": "stream",
     "text": [
      "self.n 8\nc1 outputsize: (256, 256)\nuse cascade2\n"
     ]
    },
    {
     "name": "stdout",
     "output_type": "stream",
     "text": [
      "self.n 8\n0.5\n[0. 1.]\n16218.0\n[0. 1.]\n18681.0\nIOU: 0.19144072300949277\nIOU_final 0.766080542828705\nDSC: 0.3213600463914435\nDSC_final 0.8470999124492031\n  \n /media/root/ESD-USB/DDTI/1_or_data/image/20052.PNG 47 / 129  c1: 256  c2:  512\n"
     ]
    },
    {
     "name": "stdout",
     "output_type": "stream",
     "text": [
      "self.n 8\nc1 outputsize: (256, 256)\nuse cascade2\n"
     ]
    },
    {
     "name": "stdout",
     "output_type": "stream",
     "text": [
      "self.n 8\n0.5\n[0. 1.]\n13179.0\n[0. 1.]\n15988.0\nIOU: 0.8626883932560654\nIOU_final 0.7681360290080105\nDSC: 0.9262831039045089\nDSC_final 0.8487846612035713\n  \n /media/root/ESD-USB/DDTI/1_or_data/image/20060.PNG 48 / 129  c1: 256  c2:  512\n"
     ]
    },
    {
     "name": "stdout",
     "output_type": "stream",
     "text": [
      "self.n 8\nc1 outputsize: (256, 256)\nuse cascade2\n"
     ]
    },
    {
     "name": "stdout",
     "output_type": "stream",
     "text": [
      "self.n 8\n0.5\n[0. 1.]\n28746.0\n[0. 1.]\n33309.0\nIOU: 0.854724601126952\nIOU_final 0.7699399575938219\nDSC: 0.9216727924001348\nDSC_final 0.8503031639368331\n  \n /media/root/ESD-USB/DDTI/1_or_data/image/20080.PNG 49 / 129  c1: 256  c2:  512\n"
     ]
    },
    {
     "name": "stdout",
     "output_type": "stream",
     "text": [
      "self.n 8\nc1 outputsize: (256, 256)\nuse cascade2\n"
     ]
    },
    {
     "name": "stdout",
     "output_type": "stream",
     "text": [
      "self.n 8\n0.5\n[0. 1.]\n7709.0\n[0. 1.]\n8896.0\nIOU: 0.7466359446316464\nIOU_final 0.7694643654925531\nDSC: 0.8549416916861937\nDSC_final 0.8503978277684527\n  \n /media/root/ESD-USB/DDTI/1_or_data/image/20087.PNG 50 / 129  c1: 256  c2:  512\n"
     ]
    },
    {
     "name": "stdout",
     "output_type": "stream",
     "text": [
      "self.n 8\nc1 outputsize: (256, 256)\nuse cascade2\n"
     ]
    },
    {
     "name": "stdout",
     "output_type": "stream",
     "text": [
      "self.n 8\n0.5\n[0. 1.]\n15720.0\n[0. 1.]\n18197.0\nIOU: 0.8509569830940422\nIOU_final 0.7710942178445829\nDSC: 0.9194778602272977\nDSC_final 0.8517794284176295\n  \n /media/root/ESD-USB/DDTI/1_or_data/image/20088.PNG 51 / 129  c1: 256  c2:  512\n"
     ]
    },
    {
     "name": "stdout",
     "output_type": "stream",
     "text": [
      "self.n 8\nc1 outputsize: (256, 256)\nuse cascade2\n"
     ]
    },
    {
     "name": "stdout",
     "output_type": "stream",
     "text": [
      "self.n 8\n0.5\n[0. 1.]\n5609.0\n[0. 1.]\n6449.0\nIOU: 0.8073804863282945\nIOU_final 0.7718057133050478\nDSC: 0.8934261406888301\nDSC_final 0.8525960306190257\n  \n /media/root/ESD-USB/DDTI/1_or_data/image/20094.PNG 52 / 129  c1: 256  c2:  512\n"
     ]
    },
    {
     "name": "stdout",
     "output_type": "stream",
     "text": [
      "self.n 8\nc1 outputsize: (256, 256)\nuse cascade2\n"
     ]
    },
    {
     "name": "stdout",
     "output_type": "stream",
     "text": [
      "self.n 8\n0.5\n[0. 1.]\n6509.0\n[0. 1.]\n7486.0\nIOU: 0.7684188078933342\nIOU_final 0.7717405805086687\nDSC: 0.8690461834758805\nDSC_final 0.8529123797124267\n  \n /media/root/ESD-USB/DDTI/1_or_data/image/201.PNG 53 / 129  c1: 256  c2:  512\n"
     ]
    },
    {
     "name": "stdout",
     "output_type": "stream",
     "text": [
      "self.n 8\nc1 outputsize: (256, 256)\nuse cascade2\n"
     ]
    },
    {
     "name": "stdout",
     "output_type": "stream",
     "text": [
      "self.n 8\n0.5\n[0. 1.]\n22575.0\n[0. 1.]\n40784.0\nIOU: 0.9364614562054321\nIOU_final 0.774848521559551\nDSC: 0.9671883250808029\nDSC_final 0.8550685296250377\n  \n /media/root/ESD-USB/DDTI/1_or_data/image/20131.PNG 54 / 129  c1: 256  c2:  512\n"
     ]
    },
    {
     "name": "stdout",
     "output_type": "stream",
     "text": [
      "self.n 8\nc1 outputsize: (256, 256)\nuse cascade2\n"
     ]
    },
    {
     "name": "stdout",
     "output_type": "stream",
     "text": [
      "self.n 8\n0.5\n[0. 1.]\n26541.0\n[0. 1.]\n30720.0\nIOU: 0.9073164467267868\nIOU_final 0.7773016312848702\nDSC: 0.9514063052136573\nDSC_final 0.8568525625063084\n  \n /media/root/ESD-USB/DDTI/1_or_data/image/20137.PNG 55 / 129  c1: 256  c2:  512\n"
     ]
    },
    {
     "name": "stdout",
     "output_type": "stream",
     "text": [
      "self.n 8\nc1 outputsize: (256, 256)\nuse cascade2\n"
     ]
    },
    {
     "name": "stdout",
     "output_type": "stream",
     "text": [
      "self.n 8\n0.5\n[0. 1.]\n19359.0\n[0. 1.]\n22407.0\nIOU: 0.6177963836903092\nIOU_final 0.77440153587406\nDSC: 0.7637504817275849\nDSC_final 0.8551597974012407\n  \n /media/root/ESD-USB/DDTI/1_or_data/image/20138.PNG 56 / 129  c1: 256  c2:  512\n"
     ]
    },
    {
     "name": "stdout",
     "output_type": "stream",
     "text": [
      "self.n 8\nc1 outputsize: (256, 256)\nuse cascade2\n"
     ]
    },
    {
     "name": "stdout",
     "output_type": "stream",
     "text": [
      "self.n 8\n0.5\n[0. 1.]\n11411.0\n[0. 1.]\n13157.0\nIOU: 0.8169700076379793\nIOU_final 0.7751616871555586\nDSC: 0.8992663656567697\nDSC_final 0.8559474146915179\n  \n /media/root/ESD-USB/DDTI/1_or_data/image/20142.PNG 57 / 129  c1: 256  c2:  512\n"
     ]
    },
    {
     "name": "stdout",
     "output_type": "stream",
     "text": [
      "self.n 8\nc1 outputsize: (256, 256)\nuse cascade2\n"
     ]
    },
    {
     "name": "stdout",
     "output_type": "stream",
     "text": [
      "self.n 8\n0.5\n[0. 1.]\n29274.0\n[0. 1.]\n33926.0\nIOU: 0.8706728299725045\nIOU_final 0.7768373212400663\nDSC: 0.9308659601212061\nDSC_final 0.8572617751376527\n  \n /media/root/ESD-USB/DDTI/1_or_data/image/20143.PNG 58 / 129  c1: 256  c2:  512\n"
     ]
    },
    {
     "name": "stdout",
     "output_type": "stream",
     "text": [
      "self.n 8\nc1 outputsize: (256, 256)\nuse cascade2\n"
     ]
    },
    {
     "name": "stdout",
     "output_type": "stream",
     "text": [
      "self.n 8\n0.5\n[0. 1.]\n3005.0\n[0. 1.]\n3504.0\nIOU: 0.46606223953294235\nIOU_final 0.7714791301761504\nDSC: 0.6358014372997156\nDSC_final 0.8534434934507918\n  \n /media/root/ESD-USB/DDTI/1_or_data/image/20155.PNG 59 / 129  c1: 256  c2:  512\n"
     ]
    },
    {
     "name": "stdout",
     "output_type": "stream",
     "text": [
      "self.n 8\nc1 outputsize: (256, 256)\nuse cascade2\n"
     ]
    },
    {
     "name": "stdout",
     "output_type": "stream",
     "text": [
      "self.n 8\n0.5\n[0. 1.]\n11821.0\n[0. 1.]\n13694.0\nIOU: 0.683994599050478\nIOU_final 0.7699963415130034\nDSC: 0.8123477348872129\nDSC_final 0.8527469551700532\n  \n /media/root/ESD-USB/DDTI/1_or_data/image/20164.PNG 60 / 129  c1: 256  c2:  512\n"
     ]
    },
    {
     "name": "stdout",
     "output_type": "stream",
     "text": [
      "self.n 8\nc1 outputsize: (256, 256)\nuse cascade2\n"
     ]
    },
    {
     "name": "stdout",
     "output_type": "stream",
     "text": [
      "self.n 8\n0.5\n[0. 1.]\n6659.0\n[0. 1.]\n7681.0\nIOU: 0.9020823003343973\nIOU_final 0.7721977741600268\nDSC: 0.9485207871140022\nDSC_final 0.8543431857024523\n  \n /media/root/ESD-USB/DDTI/1_or_data/image/20165.PNG 61 / 129  c1: 256  c2:  512\n"
     ]
    },
    {
     "name": "stdout",
     "output_type": "stream",
     "text": [
      "self.n 8\nc1 outputsize: (256, 256)\nuse cascade2\n"
     ]
    },
    {
     "name": "stdout",
     "output_type": "stream",
     "text": [
      "self.n 8\n0.5\n[0. 1.]\n7543.0\n[0. 1.]\n8694.0\nIOU: 0.8573240328833942\nIOU_final 0.7735932865981148\nDSC: 0.9231819733172196\nDSC_final 0.8554716904174484\n  \n /media/root/ESD-USB/DDTI/1_or_data/image/20169.PNG 62 / 129  c1: 256  c2:  512\n"
     ]
    },
    {
     "name": "stdout",
     "output_type": "stream",
     "text": [
      "self.n 8\nc1 outputsize: (256, 256)\nuse cascade2\n"
     ]
    },
    {
     "name": "stdout",
     "output_type": "stream",
     "text": [
      "self.n 8\n0.5\n[0. 1.]\n4774.0\n[0. 1.]\n5493.0\nIOU: 0.7482758619614546\nIOU_final 0.773184941039459\nDSC: 0.8560157790223524\nDSC_final 0.8554804660401082\n  \n /media/root/ESD-USB/DDTI/1_or_data/image/20189.PNG 63 / 129  c1: 256  c2:  512\n"
     ]
    },
    {
     "name": "stdout",
     "output_type": "stream",
     "text": [
      "self.n 8\nc1 outputsize: (256, 256)\nuse cascade2\n"
     ]
    },
    {
     "name": "stdout",
     "output_type": "stream",
     "text": [
      "self.n 8\n0.5\n[0. 1.]\n2926.0\n[0. 1.]\n3369.0\nIOU: 0.8364145655920407\nIOU_final 0.7741885858736269\nDSC: 0.9109212933326843\nDSC_final 0.8563604791717363\n  \n /media/root/ESD-USB/DDTI/1_or_data/image/20194.PNG 64 / 129  c1: 256  c2:  512\n"
     ]
    },
    {
     "name": "stdout",
     "output_type": "stream",
     "text": [
      "self.n 8\nc1 outputsize: (256, 256)\nuse cascade2\n"
     ]
    },
    {
     "name": "stdout",
     "output_type": "stream",
     "text": [
      "self.n 8\n0.5\n[0. 1.]\n4634.0\n[0. 1.]\n5332.0\nIOU: 0.8308295230517914\nIOU_final 0.7750736005170356\nDSC: 0.9075990009893329\nDSC_final 0.8571610810751363\n  \n /media/root/ESD-USB/DDTI/1_or_data/image/20205.PNG 65 / 129  c1: 256  c2:  512\n"
     ]
    },
    {
     "name": "stdout",
     "output_type": "stream",
     "text": [
      "self.n 8\nc1 outputsize: (256, 256)\nuse cascade2\n"
     ]
    },
    {
     "name": "stdout",
     "output_type": "stream",
     "text": [
      "self.n 8\n0.5\n[0. 1.]\n15243.0\n[0. 1.]\n17621.0\nIOU: 0.5995737879275667\nIOU_final 0.7723736034002745\nDSC: 0.7496669330952016\nDSC_final 0.855507324952368\n  \n /media/root/ESD-USB/DDTI/1_or_data/image/20213.PNG 66 / 129  c1: 256  c2:  512\n"
     ]
    },
    {
     "name": "stdout",
     "output_type": "stream",
     "text": [
      "self.n 8\nc1 outputsize: (256, 256)\nuse cascade2\n"
     ]
    },
    {
     "name": "stdout",
     "output_type": "stream",
     "text": [
      "self.n 8\n0.5\n[0. 1.]\n5176.0\n[0. 1.]\n5948.0\nIOU: 0.5504279240559778\nIOU_final 0.7690107900768761\nDSC: 0.71003355333802\nDSC_final 0.8533031768976053\n  \n /media/root/ESD-USB/DDTI/1_or_data/image/20218.PNG 67 / 129  c1: 256  c2:  512\n"
     ]
    },
    {
     "name": "stdout",
     "output_type": "stream",
     "text": [
      "self.n 8\nc1 outputsize: (256, 256)\nuse cascade2\n"
     ]
    },
    {
     "name": "stdout",
     "output_type": "stream",
     "text": [
      "self.n 8\n0.5\n[0. 1.]\n3014.0\n[0. 1.]\n3459.0\nIOU: 0.7146801655051357\nIOU_final 0.7681998852325218\nDSC: 0.8336017175478259\nDSC_final 0.853009125265519\n  \n /media/root/ESD-USB/DDTI/1_or_data/image/20222.PNG 68 / 129  c1: 256  c2:  512\n"
     ]
    },
    {
     "name": "stdout",
     "output_type": "stream",
     "text": [
      "self.n 8\nc1 outputsize: (256, 256)\nuse cascade2\n"
     ]
    },
    {
     "name": "stdout",
     "output_type": "stream",
     "text": [
      "self.n 8\n0.5\n[0. 1.]\n1798.0\n[0. 1.]\n2096.0\nIOU: 0.6868965514083235\nIOU_final 0.7670042479704012\nDSC: 0.8143908419693675\nDSC_final 0.8524412093346934\n  \n /media/root/ESD-USB/DDTI/1_or_data/image/20420.PNG 69 / 129  c1: 256  c2:  512\n"
     ]
    },
    {
     "name": "stdout",
     "output_type": "stream",
     "text": [
      "self.n 8\nc1 outputsize: (256, 256)\nuse cascade2\n"
     ]
    },
    {
     "name": "stdout",
     "output_type": "stream",
     "text": [
      "self.n 8\n0.5\n[0. 1.]\n4256.0\n[0. 1.]\n4969.0\nIOU: 0.8507281551923148\nIOU_final 0.7682176379301391\nDSC: 0.9193442622089607\nDSC_final 0.8534108187966392\n  \n /media/root/ESD-USB/DDTI/1_or_data/image/20434.PNG 70 / 129  c1: 256  c2:  512\n"
     ]
    },
    {
     "name": "stdout",
     "output_type": "stream",
     "text": [
      "self.n 8\nc1 outputsize: (256, 256)\nuse cascade2\n"
     ]
    },
    {
     "name": "stdout",
     "output_type": "stream",
     "text": [
      "self.n 8\n0.5\n[0. 1.]\n2585.0\n[0. 1.]\n3152.0\nIOU: 0.834439178251362\nIOU_final 0.769163659934728\nDSC: 0.909748535840553\nDSC_final 0.854215643325838\n  \n /media/root/ESD-USB/DDTI/1_or_data/image/20437.PNG 71 / 129  c1: 256  c2:  512\n"
     ]
    },
    {
     "name": "stdout",
     "output_type": "stream",
     "text": [
      "self.n 8\nc1 outputsize: (256, 256)\nuse cascade2\n"
     ]
    },
    {
     "name": "stdout",
     "output_type": "stream",
     "text": [
      "self.n 8\n0.5\n[0. 1.]\n1513.0\n[0. 1.]\n1742.0\nIOU: 0.7909984475990696\nIOU_final 0.7694711921553526\nDSC: 0.88330444804064\nDSC_final 0.8546253448006944\n  \n /media/root/ESD-USB/DDTI/1_or_data/image/20438.PNG 72 / 129  c1: 256  c2:  512\n"
     ]
    },
    {
     "name": "stdout",
     "output_type": "stream",
     "text": [
      "self.n 8\nc1 outputsize: (256, 256)\nuse cascade2\n"
     ]
    },
    {
     "name": "stdout",
     "output_type": "stream",
     "text": [
      "self.n 8\n0.5\n[0. 1.]\n15357.0\n[0. 1.]\n17813.0\nIOU: 0.8066364028963123\nIOU_final 0.7699873756378659\nDSC: 0.8929703858542336\nDSC_final 0.8551579148153268\n  \n /media/root/ESD-USB/DDTI/1_or_data/image/20444.PNG 73 / 129  c1: 256  c2:  512\n"
     ]
    },
    {
     "name": "stdout",
     "output_type": "stream",
     "text": [
      "self.n 8\nc1 outputsize: (256, 256)\nuse cascade2\n"
     ]
    },
    {
     "name": "stdout",
     "output_type": "stream",
     "text": [
      "self.n 8\n0.5\n[0. 1.]\n24314.0\n[0. 1.]\n28162.0\nIOU: 0.4357026778620892\nIOU_final 0.7654081332025813\nDSC: 0.6069539112525664\nDSC_final 0.8517578599720013\n  \n /media/root/ESD-USB/DDTI/1_or_data/image/20453.PNG 74 / 129  c1: 256  c2:  512\n"
     ]
    },
    {
     "name": "stdout",
     "output_type": "stream",
     "text": [
      "self.n 8\nc1 outputsize: (256, 256)\nuse cascade2\n"
     ]
    },
    {
     "name": "stdout",
     "output_type": "stream",
     "text": [
      "self.n 8\n0.5\n[0. 1.]\n18458.0\n[0. 1.]\n21324.0\nIOU: 0.8905662047505172\nIOU_final 0.7670994584937697\nDSC: 0.9421158619177138\nDSC_final 0.8529789140523487\n  \n /media/root/ESD-USB/DDTI/1_or_data/image/20458.PNG 75 / 129  c1: 256  c2:  512\n"
     ]
    },
    {
     "name": "stdout",
     "output_type": "stream",
     "text": [
      "self.n 8\n0\n1\nc1 outputsize: (256, 256)\nuse cascade2\n"
     ]
    },
    {
     "name": "stdout",
     "output_type": "stream",
     "text": [
      "self.n 8\n0.5\n[0. 1.]\n4703.0\n[0. 1.]\n5412.0\nIOU: 0.0\nIOU_final 0.7568714657138528\nDSC: 0.0\nDSC_final 0.8416058618649841\n  \n /media/root/ESD-USB/DDTI/1_or_data/image/217.PNG 76 / 129  c1: 256  c2:  512\n"
     ]
    },
    {
     "name": "stdout",
     "output_type": "stream",
     "text": [
      "self.n 8\nc1 outputsize: (256, 256)\nuse cascade2\n"
     ]
    },
    {
     "name": "stdout",
     "output_type": "stream",
     "text": [
      "self.n 8\n0.5\n[0. 1.]\n18884.0\n[0. 1.]\n29791.0\nIOU: 0.691878912594921\nIOU_final 0.7560163005412353\nDSC: 0.8178823052221285\nDSC_final 0.8412937098038938\n  \n /media/root/ESD-USB/DDTI/1_or_data/image/220.PNG 77 / 129  c1: 256  c2:  512\n"
     ]
    },
    {
     "name": "stdout",
     "output_type": "stream",
     "text": [
      "self.n 8\nc1 outputsize: (256, 256)\nuse cascade2\n"
     ]
    },
    {
     "name": "stdout",
     "output_type": "stream",
     "text": [
      "self.n 8\n0.5\n[0. 1.]\n6814.0\n[0. 1.]\n12333.0\nIOU: 0.6123408740280272\nIOU_final 0.7541503859111937\nDSC: 0.7595675131627072\nDSC_final 0.8402323306267356\n  \n /media/root/ESD-USB/DDTI/1_or_data/image/246.PNG 78 / 129  c1: 256  c2:  512\n"
     ]
    },
    {
     "name": "stdout",
     "output_type": "stream",
     "text": [
      "self.n 8\nc1 outputsize: (256, 256)\nuse cascade2\n"
     ]
    },
    {
     "name": "stdout",
     "output_type": "stream",
     "text": [
      "self.n 8\n0.5\n[0. 1.]\n7001.0\n[0. 1.]\n11257.0\nIOU: 0.5764582238267757\nIOU_final 0.7518722812690857\nDSC: 0.7313333333089556\nDSC_final 0.838836189635482\n  \n /media/root/ESD-USB/DDTI/1_or_data/image/251.PNG 79 / 129  c1: 256  c2:  512\n"
     ]
    },
    {
     "name": "stdout",
     "output_type": "stream",
     "text": [
      "self.n 8\nc1 outputsize: (256, 256)\nuse cascade2\n"
     ]
    },
    {
     "name": "stdout",
     "output_type": "stream",
     "text": [
      "self.n 8\n0.5\n[0. 1.]\n2414.0\n[0. 1.]\n4331.0\nIOU: 0.7529116234864326\nIOU_final 0.7518854374996851\nDSC: 0.8590411671627095\nDSC_final 0.8390919488446875\n  \n /media/root/ESD-USB/DDTI/1_or_data/image/255.PNG 80 / 129  c1: 256  c2:  512\n"
     ]
    },
    {
     "name": "stdout",
     "output_type": "stream",
     "text": [
      "self.n 8\nc1 outputsize: (256, 256)\nuse cascade2\n"
     ]
    },
    {
     "name": "stdout",
     "output_type": "stream",
     "text": [
      "self.n 8\n0.5\n[0. 1.]\n5159.0\n[0. 1.]\n9338.0\nIOU: 0.8625508394136457\nIOU_final 0.7532687550236095\nDSC: 0.9262038073389584\nDSC_final 0.8401808470758659\n  \n /media/root/ESD-USB/DDTI/1_or_data/image/257.PNG 81 / 129  c1: 256  c2:  512\n"
     ]
    },
    {
     "name": "stdout",
     "output_type": "stream",
     "text": [
      "self.n 8\nc1 outputsize: (256, 256)\nuse cascade2\n"
     ]
    },
    {
     "name": "stdout",
     "output_type": "stream",
     "text": [
      "self.n 8\n0.5\n[0. 1.]\n14350.0\n[0. 1.]\n25942.0\nIOU: 0.4367435047245107\nIOU_final 0.7493610358841144\nDSC: 0.6079630821901706\nDSC_final 0.8373139610896227\n  \n /media/root/ESD-USB/DDTI/1_or_data/image/262.PNG 82 / 129  c1: 256  c2:  512\n"
     ]
    },
    {
     "name": "stdout",
     "output_type": "stream",
     "text": [
      "self.n 8\nc1 outputsize: (256, 256)\nuse cascade2\n"
     ]
    },
    {
     "name": "stdout",
     "output_type": "stream",
     "text": [
      "self.n 8\n0.5\n[0. 1.]\n6314.0\n[0. 1.]\n11440.0\nIOU: 0.846101898338253\nIOU_final 0.7505408024994088\nDSC: 0.9166361825421031\nDSC_final 0.8382813052536774\n  \n /media/root/ESD-USB/DDTI/1_or_data/image/263.PNG 83 / 129  c1: 256  c2:  512\n"
     ]
    },
    {
     "name": "stdout",
     "output_type": "stream",
     "text": [
      "self.n 8\nc1 outputsize: (256, 256)\nuse cascade2\n"
     ]
    },
    {
     "name": "stdout",
     "output_type": "stream",
     "text": [
      "self.n 8\n0.5\n[0. 1.]\n4062.0\n[0. 1.]\n6759.0\nIOU: 0.8816228478737991\nIOU_final 0.7521201042509075\nDSC: 0.9370877366524514\nDSC_final 0.8394717441861929\n  \n /media/root/ESD-USB/DDTI/1_or_data/image/266.PNG 84 / 129  c1: 256  c2:  512\n"
     ]
    },
    {
     "name": "stdout",
     "output_type": "stream",
     "text": [
      "self.n 8\nc1 outputsize: (256, 256)\nuse cascade2\n"
     ]
    },
    {
     "name": "stdout",
     "output_type": "stream",
     "text": [
      "self.n 8\n0.5\n[0. 1.]\n1871.0\n[0. 1.]\n3385.0\nIOU: 0.8257452572287953\nIOU_final 0.7529965941673109\nDSC: 0.9045569243128162\nDSC_final 0.8402465677591289\n  \n /media/root/ESD-USB/DDTI/1_or_data/image/276.PNG 85 / 129  c1: 256  c2:  512\n"
     ]
    },
    {
     "name": "stdout",
     "output_type": "stream",
     "text": [
      "self.n 8\nc1 outputsize: (256, 256)\nuse cascade2\n"
     ]
    },
    {
     "name": "stdout",
     "output_type": "stream",
     "text": [
      "self.n 8\n0.5\n[0. 1.]\n10390.0\n[0. 1.]\n16403.0\nIOU: 0.8981116535738507\nIOU_final 0.754703830160329\nDSC: 0.9463212049542453\nDSC_final 0.8414945046673067\n  \n /media/root/ESD-USB/DDTI/1_or_data/image/289.PNG 86 / 129  c1: 256  c2:  512\n"
     ]
    },
    {
     "name": "stdout",
     "output_type": "stream",
     "text": [
      "self.n 8\nc1 outputsize: (256, 256)\nuse cascade2\n"
     ]
    },
    {
     "name": "stdout",
     "output_type": "stream",
     "text": [
      "self.n 8\n0.5\n[0. 1.]\n9132.0\n[0. 1.]\n16394.0\nIOU: 0.5882673776990324\nIOU_final 0.7527685225735697\nDSC: 0.7407661782379134\nDSC_final 0.8403232450576626\n  \n /media/root/ESD-USB/DDTI/1_or_data/image/291.PNG 87 / 129  c1: 256  c2:  512\n"
     ]
    },
    {
     "name": "stdout",
     "output_type": "stream",
     "text": [
      "self.n 8\nc1 outputsize: (256, 256)\nuse cascade2\n"
     ]
    },
    {
     "name": "stdout",
     "output_type": "stream",
     "text": [
      "self.n 8\n0.5\n[0. 1.]\n3508.0\n[0. 1.]\n6293.0\nIOU: 0.7928211585653618\nIOU_final 0.7532288976999122\nDSC: 0.8844397610744257\nDSC_final 0.84083033144866\n  \n /media/root/ESD-USB/DDTI/1_or_data/image/292.PNG 88 / 129  c1: 256  c2:  512\n"
     ]
    },
    {
     "name": "stdout",
     "output_type": "stream",
     "text": [
      "self.n 8\nc1 outputsize: (256, 256)\nuse cascade2\n"
     ]
    },
    {
     "name": "stdout",
     "output_type": "stream",
     "text": [
      "self.n 8\n0.5\n[0. 1.]\n2240.0\n[0. 1.]\n4058.0\nIOU: 0.8710852146464954\nIOU_final 0.7545681740288505\nDSC: 0.9311015958309197\nDSC_final 0.8418561412711854\n  \n /media/root/ESD-USB/DDTI/1_or_data/image/296.PNG 89 / 129  c1: 256  c2:  512\n"
     ]
    },
    {
     "name": "stdout",
     "output_type": "stream",
     "text": [
      "self.n 8\nc1 outputsize: (256, 256)\nuse cascade2\n"
     ]
    },
    {
     "name": "stdout",
     "output_type": "stream",
     "text": [
      "self.n 8\n0.5\n[0. 1.]\n39220.0\n[0. 1.]\n51488.0\nIOU: 0.8157188970303727\nIOU_final 0.7552552608041485\nDSC: 0.8985079115104101\nDSC_final 0.8424926780154464\n  \n /media/root/ESD-USB/DDTI/1_or_data/image/306.PNG 90 / 129  c1: 256  c2:  512\n"
     ]
    },
    {
     "name": "stdout",
     "output_type": "stream",
     "text": [
      "self.n 8\nc1 outputsize: (256, 256)\nuse cascade2\n"
     ]
    },
    {
     "name": "stdout",
     "output_type": "stream",
     "text": [
      "self.n 8\n0.5\n[0. 1.]\n7075.0\n[0. 1.]\n12789.0\nIOU: 0.6965956141161942\nIOU_final 0.7546034869520601\nDSC: 0.8211687078762974\nDSC_final 0.8422557450139002\n  \n /media/root/ESD-USB/DDTI/1_or_data/image/309.PNG 91 / 129  c1: 256  c2:  512\n"
     ]
    },
    {
     "name": "stdout",
     "output_type": "stream",
     "text": [
      "self.n 8\nc1 outputsize: (256, 256)\nuse cascade2\n"
     ]
    },
    {
     "name": "stdout",
     "output_type": "stream",
     "text": [
      "self.n 8\n0.5\n[0. 1.]\n7615.0\n[0. 1.]\n12021.0\nIOU: 0.8874899758710914\nIOU_final 0.7560637780390824\nDSC: 0.9403917236291629\nDSC_final 0.8433341623613206\n  \n /media/root/ESD-USB/DDTI/1_or_data/image/316.PNG 92 / 129  c1: 256  c2:  512\n"
     ]
    },
    {
     "name": "stdout",
     "output_type": "stream",
     "text": [
      "self.n 8\nc1 outputsize: (256, 256)\nuse cascade2\n"
     ]
    },
    {
     "name": "stdout",
     "output_type": "stream",
     "text": [
      "self.n 8\n0.5\n[0. 1.]\n4535.0\n[0. 1.]\n8177.0\nIOU: 0.843935248421804\nIOU_final 0.7570189027171554\nDSC: 0.9153632147811213\nDSC_final 0.8441170868441447\n  \n /media/root/ESD-USB/DDTI/1_or_data/image/318.PNG 93 / 129  c1: 256  c2:  512\n"
     ]
    },
    {
     "name": "stdout",
     "output_type": "stream",
     "text": [
      "self.n 8\nc1 outputsize: (256, 256)\nuse cascade2\n"
     ]
    },
    {
     "name": "stdout",
     "output_type": "stream",
     "text": [
      "self.n 8\n0.5\n[0. 1.]\n11344.0\n[0. 1.]\n18896.0\nIOU: 0.7725742779649876\nIOU_final 0.7571861648165946\nDSC: 0.8716974939430411\nDSC_final 0.8444136503613371\n  \n /media/root/ESD-USB/DDTI/1_or_data/image/319.PNG 94 / 129  c1: 256  c2:  512\n"
     ]
    },
    {
     "name": "stdout",
     "output_type": "stream",
     "text": [
      "self.n 8\nc1 outputsize: (256, 256)\nuse cascade2\n"
     ]
    },
    {
     "name": "stdout",
     "output_type": "stream",
     "text": [
      "self.n 8\n0.5\n[0. 1.]\n20048.0\n[0. 1.]\n36300.0\nIOU: 0.9439356167097351\nIOU_final 0.7591728611133302\nDSC: 0.9711593414882957\nDSC_final 0.8457620087775815\n  \n /media/root/ESD-USB/DDTI/1_or_data/image/325.PNG 95 / 129  c1: 256  c2:  512\n"
     ]
    },
    {
     "name": "stdout",
     "output_type": "stream",
     "text": [
      "self.n 8\nc1 outputsize: (256, 256)\nuse cascade2\n"
     ]
    },
    {
     "name": "stdout",
     "output_type": "stream",
     "text": [
      "self.n 8\n0.5\n[0. 1.]\n15577.0\n[0. 1.]\n28105.0\nIOU: 0.940060723878823\nIOU_final 0.7610769438792827\nDSC: 0.9691044329780881\nDSC_final 0.8470603500849552\n  \n /media/root/ESD-USB/DDTI/1_or_data/image/338.PNG 96 / 129  c1: 256  c2:  512\n"
     ]
    },
    {
     "name": "stdout",
     "output_type": "stream",
     "text": [
      "self.n 8\nc1 outputsize: (256, 256)\nuse cascade2\n"
     ]
    },
    {
     "name": "stdout",
     "output_type": "stream",
     "text": [
      "self.n 8\n0.5\n[0. 1.]\n1993.0\n[0. 1.]\n3303.0\nIOU: 0.5454816580538379\nIOU_final 0.7588311596519343\nDSC: 0.7059050558267261\nDSC_final 0.8455899824364318\n  \n /media/root/ESD-USB/DDTI/1_or_data/image/355.PNG 97 / 129  c1: 256  c2:  512\n"
     ]
    },
    {
     "name": "stdout",
     "output_type": "stream",
     "text": [
      "self.n 8\nc1 outputsize: (256, 256)\nuse cascade2\n"
     ]
    },
    {
     "name": "stdout",
     "output_type": "stream",
     "text": [
      "self.n 8\n0.5\n[0. 1.]\n3663.0\n[0. 1.]\n6613.0\nIOU: 0.7587079486813474\nIOU_final 0.7588298894357427\nDSC: 0.8628015234140667\nDSC_final 0.8457674210032116\n  \n /media/root/ESD-USB/DDTI/1_or_data/image/356.PNG 98 / 129  c1: 256  c2:  512\n"
     ]
    },
    {
     "name": "stdout",
     "output_type": "stream",
     "text": [
      "self.n 8\nc1 outputsize: (256, 256)\nuse cascade2\n"
     ]
    },
    {
     "name": "stdout",
     "output_type": "stream",
     "text": [
      "self.n 8\n0.5\n[0. 1.]\n13254.0\n[0. 1.]\n22046.0\nIOU: 0.7338325087697182\nIOU_final 0.7585748141228241\nDSC: 0.8464860418269887\nDSC_final 0.8457747538687603\n  \n /media/root/ESD-USB/DDTI/1_or_data/image/360.PNG 99 / 129  c1: 256  c2:  512\n"
     ]
    },
    {
     "name": "stdout",
     "output_type": "stream",
     "text": [
      "self.n 8\nc1 outputsize: (256, 256)\nuse cascade2\n"
     ]
    },
    {
     "name": "stdout",
     "output_type": "stream",
     "text": [
      "self.n 8\n0.5\n[0. 1.]\n7878.0\n[0. 1.]\n14227.0\nIOU: 0.8653669423089558\nIOU_final 0.7596535224883406\nDSC: 0.9278248935169854\nDSC_final 0.8466035431581364\n  \n /media/root/ESD-USB/DDTI/1_or_data/image/369.PNG 100 / 129  c1: 256  c2:  512\n"
     ]
    },
    {
     "name": "stdout",
     "output_type": "stream",
     "text": [
      "self.n 8\nc1 outputsize: (256, 256)\nuse cascade2\n"
     ]
    },
    {
     "name": "stdout",
     "output_type": "stream",
     "text": [
      "self.n 8\n0.5\n[0. 1.]\n21653.0\n[0. 1.]\n39235.0\nIOU: 0.8640774389748352\nIOU_final 0.7606977616532055\nDSC: 0.9270832004168688\nDSC_final 0.8474083397307237\n  \n /media/root/ESD-USB/DDTI/1_or_data/image/373.PNG 101 / 129  c1: 256  c2:  512\n"
     ]
    },
    {
     "name": "stdout",
     "output_type": "stream",
     "text": [
      "self.n 8\nc1 outputsize: (256, 256)\nuse cascade2\n"
     ]
    },
    {
     "name": "stdout",
     "output_type": "stream",
     "text": [
      "self.n 8\n0.5\n[0. 1.]\n17948.0\n[0. 1.]\n23545.0\nIOU: 0.8062645914083165\nIOU_final 0.7611489183834541\nDSC: 0.8927425087591232\nDSC_final 0.8478571928894207\n  \n /media/root/ESD-USB/DDTI/1_or_data/image/377.PNG 102 / 129  c1: 256  c2:  512\n"
     ]
    },
    {
     "name": "stdout",
     "output_type": "stream",
     "text": [
      "self.n 8\nc1 outputsize: (256, 256)\nuse cascade2\n"
     ]
    },
    {
     "name": "stdout",
     "output_type": "stream",
     "text": [
      "self.n 8\n0.5\n[0. 1.]\n1600.0\n[0. 1.]\n2656.0\nIOU: 0.8665467622782206\nIOU_final 0.7621822305785009\nDSC: 0.9285026014784153\nDSC_final 0.8486478341500971\n  \n /media/root/ESD-USB/DDTI/1_or_data/image/379.PNG 103 / 129  c1: 256  c2:  512\n"
     ]
    },
    {
     "name": "stdout",
     "output_type": "stream",
     "text": [
      "self.n 8\nc1 outputsize: (256, 256)\nuse cascade2\n"
     ]
    },
    {
     "name": "stdout",
     "output_type": "stream",
     "text": [
      "self.n 8\n0.5\n[0. 1.]\n21310.0\n[0. 1.]\n38472.0\nIOU: 0.8447984379635498\nIOU_final 0.7629843296793266\nDSC: 0.9158707212437934\nDSC_final 0.8493004835393564\n  \n /media/root/ESD-USB/DDTI/1_or_data/image/381.PNG 104 / 129  c1: 256  c2:  512\n"
     ]
    },
    {
     "name": "stdout",
     "output_type": "stream",
     "text": [
      "self.n 8\nc1 outputsize: (256, 256)\nuse cascade2\n"
     ]
    },
    {
     "name": "stdout",
     "output_type": "stream",
     "text": [
      "self.n 8\n0.5\n[0. 1.]\n11121.0\n[0. 1.]\n20092.0\nIOU: 0.9013684359628122\nIOU_final 0.7643149460858987\nDSC: 0.9481260116810328\nDSC_final 0.850250729002257\n  \n /media/root/ESD-USB/DDTI/1_or_data/image/385.PNG 105 / 129  c1: 256  c2:  512\n"
     ]
    },
    {
     "name": "stdout",
     "output_type": "stream",
     "text": [
      "self.n 8\nc1 outputsize: (256, 256)\nuse cascade2\n"
     ]
    },
    {
     "name": "stdout",
     "output_type": "stream",
     "text": [
      "self.n 8\n0.5\n[0. 1.]\n3669.0\n[0. 1.]\n6644.0\nIOU: 0.6252252251313475\nIOU_final 0.7629902820768076\nDSC: 0.7694013303058572\nDSC_final 0.8494807347289579\n  \n /media/root/ESD-USB/DDTI/1_or_data/image/388.PNG 106 / 129  c1: 256  c2:  512\n"
     ]
    },
    {
     "name": "stdout",
     "output_type": "stream",
     "text": [
      "self.n 8\nc1 outputsize: (256, 256)\nuse cascade2\n"
     ]
    },
    {
     "name": "stdout",
     "output_type": "stream",
     "text": [
      "self.n 8\n0.5\n[0. 1.]\n7211.0\n[0. 1.]\n13046.0\nIOU: 0.8584831899311619\nIOU_final 0.7638911585659997\nDSC: 0.9238535969356387\nDSC_final 0.8501823655044927\n  \n /media/root/ESD-USB/DDTI/1_or_data/image/399.PNG 107 / 129  c1: 256  c2:  512\n"
     ]
    },
    {
     "name": "stdout",
     "output_type": "stream",
     "text": [
      "self.n 8\nc1 outputsize: (256, 256)\nuse cascade2\n"
     ]
    },
    {
     "name": "stdout",
     "output_type": "stream",
     "text": [
      "self.n 8\n0.5\n[0. 1.]\n26934.0\n[0. 1.]\n42505.0\nIOU: 0.8117851959204299\nIOU_final 0.764338766391742\nDSC: 0.8961163804057067\nDSC_final 0.8506116553633825\n  \n /media/root/ESD-USB/DDTI/1_or_data/image/404.PNG 108 / 129  c1: 256  c2:  512\n"
     ]
    },
    {
     "name": "stdout",
     "output_type": "stream",
     "text": [
      "self.n 8\nc1 outputsize: (256, 256)\nuse cascade2\n"
     ]
    },
    {
     "name": "stdout",
     "output_type": "stream",
     "text": [
      "self.n 8\n0.5\n[0. 1.]\n3982.0\n[0. 1.]\n6775.0\nIOU: 0.8055148136102207\nIOU_final 0.7647200260882094\nDSC: 0.8922826969218292\nDSC_final 0.8509974983407754\n  \n /media/root/ESD-USB/DDTI/1_or_data/image/405.PNG 109 / 129  c1: 256  c2:  512\n"
     ]
    },
    {
     "name": "stdout",
     "output_type": "stream",
     "text": [
      "self.n 8\nc1 outputsize: (256, 256)\nuse cascade2\n"
     ]
    },
    {
     "name": "stdout",
     "output_type": "stream",
     "text": [
      "self.n 8\n0.5\n[0. 1.]\n13320.0\n[0. 1.]\n24028.0\nIOU: 0.415925284794657\nIOU_final 0.7615200743332227\nDSC: 0.5874960907347256\nDSC_final 0.848580054234298\n  \n /media/root/ESD-USB/DDTI/1_or_data/image/409.PNG 110 / 129  c1: 256  c2:  512\n"
     ]
    },
    {
     "name": "stdout",
     "output_type": "stream",
     "text": [
      "self.n 8\nc1 outputsize: (256, 256)\nuse cascade2\n"
     ]
    },
    {
     "name": "stdout",
     "output_type": "stream",
     "text": [
      "self.n 8\n0.5\n[0. 1.]\n11757.0\n[0. 1.]\n21223.0\nIOU: 0.9144394307135353\nIOU_final 0.7629102503003163\nDSC: 0.9553077689929447\nDSC_final 0.8495503061866493\n  \n /media/root/ESD-USB/DDTI/1_or_data/image/411.PNG 111 / 129  c1: 256  c2:  512\n"
     ]
    },
    {
     "name": "stdout",
     "output_type": "stream",
     "text": [
      "self.n 8\nc1 outputsize: (256, 256)\nuse cascade2\n"
     ]
    },
    {
     "name": "stdout",
     "output_type": "stream",
     "text": [
      "self.n 8\n0.5\n[0. 1.]\n2653.0\n[0. 1.]\n4182.0\nIOU: 0.8013526568499801\nIOU_final 0.7632565782872504\nDSC: 0.8897232352617761\nDSC_final 0.8499122244666053\n  \n /media/root/ESD-USB/DDTI/1_or_data/image/414.PNG 112 / 129  c1: 256  c2:  512\n"
     ]
    },
    {
     "name": "stdout",
     "output_type": "stream",
     "text": [
      "self.n 8\nc1 outputsize: (256, 256)\nuse cascade2\n"
     ]
    },
    {
     "name": "stdout",
     "output_type": "stream",
     "text": [
      "self.n 8\n0.5\n[0. 1.]\n3863.0\n[0. 1.]\n6954.0\nIOU: 0.7524947293390731\nIOU_final 0.7631604903502129\nDSC: 0.8587697489085917\nDSC_final 0.8499913095062661\n  \n /media/root/ESD-USB/DDTI/1_or_data/image/417.PNG 113 / 129  c1: 256  c2:  512\n"
     ]
    },
    {
     "name": "stdout",
     "output_type": "stream",
     "text": [
      "self.n 8\nc1 outputsize: (256, 256)\nuse cascade2\n"
     ]
    },
    {
     "name": "stdout",
     "output_type": "stream",
     "text": [
      "self.n 8\n0.5\n[0. 1.]\n3785.0\n[0. 1.]\n6838.0\nIOU: 0.7065439671769582\nIOU_final 0.7626594591716885\nDSC: 0.8280407428889804\nDSC_final 0.8497970567043432\n  \n /media/root/ESD-USB/DDTI/1_or_data/image/432.PNG 114 / 129  c1: 256  c2:  512\n"
     ]
    },
    {
     "name": "stdout",
     "output_type": "stream",
     "text": [
      "self.n 8\nc1 outputsize: (256, 256)\nuse cascade2\n"
     ]
    },
    {
     "name": "stdout",
     "output_type": "stream",
     "text": [
      "self.n 8\n0.5\n[0. 1.]\n2332.0\n[0. 1.]\n4181.0\nIOU: 0.6914995222799666\nIOU_final 0.7620352491989542\nDSC: 0.8176171653278349\nDSC_final 0.8495147769554265\n  \n /media/root/ESD-USB/DDTI/1_or_data/image/435.PNG 115 / 129  c1: 256  c2:  512\n"
     ]
    },
    {
     "name": "stdout",
     "output_type": "stream",
     "text": [
      "self.n 8\nc1 outputsize: (256, 256)\nuse cascade2\n"
     ]
    },
    {
     "name": "stdout",
     "output_type": "stream",
     "text": [
      "self.n 8\n0.5\n[0. 1.]\n4832.0\n[0. 1.]\n8044.0\nIOU: 0.8644067795548506\nIOU_final 0.7629254364194402\nDSC: 0.9272727272116421\nDSC_final 0.850190933044611\n  \n /media/root/ESD-USB/DDTI/1_or_data/image/455.PNG 116 / 129  c1: 256  c2:  512\n"
     ]
    },
    {
     "name": "stdout",
     "output_type": "stream",
     "text": [
      "self.n 8\nc1 outputsize: (256, 256)\nuse cascade2\n"
     ]
    },
    {
     "name": "stdout",
     "output_type": "stream",
     "text": [
      "self.n 8\n0.5\n[0. 1.]\n2859.0\n[0. 1.]\n5161.0\nIOU: 0.0\nIOU_final 0.7563484930020313\nDSC: 0.0\nDSC_final 0.842861700863192\n  \n /media/root/ESD-USB/DDTI/1_or_data/image/460.PNG 117 / 129  c1: 256  c2:  512\n"
     ]
    },
    {
     "name": "stdout",
     "output_type": "stream",
     "text": [
      "self.n 8\nc1 outputsize: (256, 256)\nuse cascade2\n"
     ]
    },
    {
     "name": "stdout",
     "output_type": "stream",
     "text": [
      "self.n 8\n0.5\n[0. 1.]\n38178.0\n[0. 1.]\n44370.0\nIOU: 0.8801225200520485\nIOU_final 0.7574063906691255\nDSC: 0.9362395382910298\nDSC_final 0.8436598020377889\n  \n /media/root/ESD-USB/DDTI/1_or_data/image/462.PNG 118 / 129  c1: 256  c2:  512\n"
     ]
    },
    {
     "name": "stdout",
     "output_type": "stream",
     "text": [
      "self.n 8\nc1 outputsize: (256, 256)\nuse cascade2\n"
     ]
    },
    {
     "name": "stdout",
     "output_type": "stream",
     "text": [
      "self.n 8\n0.5\n[0. 1.]\n4428.0\n[0. 1.]\n7352.0\nIOU: 0.7392546244913962\nIOU_final 0.7572525621421956\nDSC: 0.8500821145812089\nDSC_final 0.8437142284152755\n  \n /media/root/ESD-USB/DDTI/1_or_data/image/468.PNG 119 / 129  c1: 256  c2:  512\n"
     ]
    },
    {
     "name": "stdout",
     "output_type": "stream",
     "text": [
      "self.n 8\nc1 outputsize: (256, 256)\nuse cascade2\n"
     ]
    },
    {
     "name": "stdout",
     "output_type": "stream",
     "text": [
      "self.n 8\n0.5\n[0. 1.]\n6293.0\n[0. 1.]\n11364.0\nIOU: 0.9075064710174714\nIOU_final 0.7585152000319038\nDSC: 0.9515107652907766\nDSC_final 0.8446200816663302\n  \n /media/root/ESD-USB/DDTI/1_or_data/image/474.PNG 120 / 129  c1: 256  c2:  512\n"
     ]
    },
    {
     "name": "stdout",
     "output_type": "stream",
     "text": [
      "self.n 8\nc1 outputsize: (256, 256)\nuse cascade2\n"
     ]
    },
    {
     "name": "stdout",
     "output_type": "stream",
     "text": [
      "self.n 8\n0.5\n[0. 1.]\n17943.0\n[0. 1.]\n27580.0\nIOU: 0.8869849621071852\nIOU_final 0.7595857813825311\nDSC: 0.9401081406782323\nDSC_final 0.8454158154914292\n  \n /media/root/ESD-USB/DDTI/1_or_data/image/479.PNG 121 / 129  c1: 256  c2:  512\n"
     ]
    },
    {
     "name": "stdout",
     "output_type": "stream",
     "text": [
      "self.n 8\nc1 outputsize: (256, 256)\nuse cascade2\n"
     ]
    },
    {
     "name": "stdout",
     "output_type": "stream",
     "text": [
      "self.n 8\n0.5\n[0. 1.]\n6167.0\n[0. 1.]\n11103.0\nIOU: 0.8560642960824757\nIOU_final 0.7603831244792248\nDSC: 0.9224511218596662\nDSC_final 0.84605247091596\n  \n /media/root/ESD-USB/DDTI/1_or_data/image/480.PNG 122 / 129  c1: 256  c2:  512\n"
     ]
    },
    {
     "name": "stdout",
     "output_type": "stream",
     "text": [
      "self.n 8\nc1 outputsize: (256, 256)\nuse cascade2\n"
     ]
    },
    {
     "name": "stdout",
     "output_type": "stream",
     "text": [
      "self.n 8\n0.5\n[0. 1.]\n6609.0\n[0. 1.]\n11962.0\nIOU: 0.9096272018918781\nIOU_final 0.7616064365891646\nDSC: 0.9526751619276322\nDSC_final 0.8469264273996623\n  \n /media/root/ESD-USB/DDTI/1_or_data/image/51.PNG 123 / 129  c1: 256  c2:  512\n"
     ]
    },
    {
     "name": "stdout",
     "output_type": "stream",
     "text": [
      "self.n 8\nc1 outputsize: (256, 256)\nuse cascade2\n"
     ]
    },
    {
     "name": "stdout",
     "output_type": "stream",
     "text": [
      "self.n 8\n0.5\n[0. 1.]\n19407.0\n[0. 1.]\n35057.0\nIOU: 0.7670291546963989\nIOU_final 0.7616505237282478\nDSC: 0.8681567620520507\nDSC_final 0.8470990317464296\n  \n /media/root/ESD-USB/DDTI/1_or_data/image/53.PNG 124 / 129  c1: 256  c2:  512\n"
     ]
    },
    {
     "name": "stdout",
     "output_type": "stream",
     "text": [
      "self.n 8\nc1 outputsize: (256, 256)\nuse cascade2\n"
     ]
    },
    {
     "name": "stdout",
     "output_type": "stream",
     "text": [
      "self.n 8\n0.5\n[0. 1.]\n8329.0\n[0. 1.]\n15054.0\nIOU: 0.9221638330187225\nIOU_final 0.7629449858999453\nDSC: 0.9595059663259623\nDSC_final 0.8480055392833613\n  \n /media/root/ESD-USB/DDTI/1_or_data/image/58.PNG 125 / 129  c1: 256  c2:  512\n"
     ]
    },
    {
     "name": "stdout",
     "output_type": "stream",
     "text": [
      "self.n 8\nc1 outputsize: (256, 256)\nuse cascade2\n"
     ]
    },
    {
     "name": "stdout",
     "output_type": "stream",
     "text": [
      "self.n 8\n0.5\n[0. 1.]\n2394.0\n[0. 1.]\n3921.0\nIOU: 0.851096157835664\nIOU_final 0.7636501952754311\nDSC: 0.91955909932932\nDSC_final 0.8485779677637291\n  \n /media/root/ESD-USB/DDTI/1_or_data/image/68.PNG 126 / 129  c1: 256  c2:  512\n"
     ]
    },
    {
     "name": "stdout",
     "output_type": "stream",
     "text": [
      "self.n 8\nc1 outputsize: (256, 256)\nuse cascade2\n"
     ]
    },
    {
     "name": "stdout",
     "output_type": "stream",
     "text": [
      "self.n 8\n0.5\n[0. 1.]\n1795.0\n[0. 1.]\n2616.0\nIOU: 0.8605299857529534\nIOU_final 0.7644190825014431\nDSC: 0.9250374810860124\nDSC_final 0.8491847892980329\n  \n /media/root/ESD-USB/DDTI/1_or_data/image/86.PNG 127 / 129  c1: 256  c2:  512\n"
     ]
    },
    {
     "name": "stdout",
     "output_type": "stream",
     "text": [
      "self.n 8\nc1 outputsize: (256, 256)\nuse cascade2\n"
     ]
    },
    {
     "name": "stdout",
     "output_type": "stream",
     "text": [
      "self.n 8\n0.5\n[0. 1.]\n10166.0\n[0. 1.]\n18371.0\nIOU: 0.8587769679589373\nIOU_final 0.7651620579774864\nDSC: 0.9240236809066259\nDSC_final 0.8497740719091241\n  \n /media/root/ESD-USB/DDTI/1_or_data/image/90.PNG 128 / 129  c1: 256  c2:  512\n"
     ]
    },
    {
     "name": "stdout",
     "output_type": "stream",
     "text": [
      "self.n 8\nc1 outputsize: (256, 256)\nuse cascade2\n"
     ]
    },
    {
     "name": "stdout",
     "output_type": "stream",
     "text": [
      "self.n 8\n0.5\n[0. 1.]\n4710.0\n[0. 1.]\n7824.0\nIOU: 0.27507485026508544\nIOU_final 0.7613332516672332\nDSC: 0.4314646315985261\nDSC_final 0.8465060294066977\n  \n /media/root/ESD-USB/DDTI/1_or_data/image/97.PNG 129 / 129  c1: 256  c2:  512\n"
     ]
    },
    {
     "name": "stdout",
     "output_type": "stream",
     "text": [
      "self.n 8\nc1 outputsize: (256, 256)\nuse cascade2\n"
     ]
    },
    {
     "name": "stdout",
     "output_type": "stream",
     "text": [
      "self.n 8\n0.5\n[0. 1.]\n23402.0\n[0. 1.]\n36959.0\nIOU: 0.8089006636478029\nIOU_final 0.7617019912949896\nDSC: 0.8943560914136497\nDSC_final 0.8468769601199299\n5\n"
     ]
    },
    {
     "data": {
      "image/png": "[encoded data removed]",
      "text/plain": [
       "<Figure size 432x288 with 4 Axes>"
      ]
     },
     "metadata": {},
     "output_type": "display_data"
    }
   ],
   "source": [
    "# 一张一张图片的计算dice,然后保存\n",
    "# 计算dice不是最终目的,这个脚本要作为最终的图片输出脚本\n",
    "import torch\n",
    "import ttach as tta\n",
    "from PIL import Image\n",
    "from skimage.measure import label as sklabel\n",
    "from skimage.measure import regionprops\n",
    "from skimage.transform import resize\n",
    "from torchvision import transforms as T\n",
    "import xlrd\n",
    "import segmentation_models_pytorch_4TorchLessThan120 as smp\n",
    "from tnscui_utils.TNSCUI_preprocess import TNSCUI_preprocess\n",
    "from tnscui_utils.TNSUCI_util import *\n",
    "\n",
    "\n",
    "def getIOU(SR,GT):\n",
    "    \"\"\"\n",
    "    都是二值图\n",
    "    :param SR: \n",
    "    :param GT: \n",
    "    :return: \n",
    "    \"\"\"\n",
    "    TP = (SR+GT==2).astype(np.float32)\n",
    "    FP = (SR+(1-GT)==2).astype(np.float32)\n",
    "    FN = ((1-SR)+GT==2).astype(np.float32)\n",
    "\n",
    "    IOU = float(np.sum(TP))/(float(np.sum(TP+FP+FN)) + 1e-6)\n",
    "\n",
    "    return IOU\n",
    "\n",
    "def getDSC(SR,GT):\n",
    "    \"\"\"\n",
    "    都是二值图\n",
    "    :param SR: \n",
    "    :param GT: \n",
    "    :return: \n",
    "    \"\"\"\n",
    "\n",
    "\n",
    "    Inter = np.sum(((SR+GT)==2).astype(np.float32))\n",
    "    DC = float(2*Inter)/(float(np.sum(SR)+np.sum(GT)) + 1e-6)\n",
    "\n",
    "    return DC\n",
    "\n",
    "def largestConnectComponent(bw_img):\n",
    "    if np.sum(bw_img)==0:\n",
    "        return bw_img\n",
    "    labeled_img, num = sklabel(bw_img, neighbors=4, background=0, return_num=True)\n",
    "    if num == 1:\n",
    "        return bw_img\n",
    "\n",
    "\n",
    "    max_label = 0\n",
    "    max_num = 0\n",
    "    for i in range(0,num):\n",
    "        print(i)\n",
    "        if np.sum(labeled_img == (i+1)) > max_num:\n",
    "            max_num = np.sum(labeled_img == (i+1))\n",
    "            max_label = i+1\n",
    "    mcr = (labeled_img == max_label)\n",
    "    return mcr.astype(np.int)\n",
    "\n",
    "\n",
    "def preprocess(mask_c1_array_biggest, c1_size=256):\n",
    "    if np.sum(mask_c1_array_biggest) == 0:\n",
    "            minr, minc, maxr, maxc = [0, 0, c1_size, c1_size]\n",
    "    else:\n",
    "        region = regionprops(mask_c1_array_biggest)[0]\n",
    "        minr, minc, maxr, maxc = region.bbox\n",
    "\n",
    "    dim1_center, dim2_center = [(maxr + minr) // 2, (maxc + minc) // 2]\n",
    "    max_length = max(maxr - minr, maxc - minc)\n",
    "\n",
    "    max_lengthl = int((c1_size/256)*80)\n",
    "    preprocess1 = int((c1_size/256)*19)\n",
    "    pp22 = int((c1_size/256)*31)\n",
    "\n",
    "\n",
    "    if max_length > max_lengthl:\n",
    "        ex_pixel = preprocess1 + max_length // 2\n",
    "    else:\n",
    "        ex_pixel = pp22 + max_length // 2\n",
    "\n",
    "    dim1_cut_min = dim1_center - ex_pixel\n",
    "    dim1_cut_max = dim1_center + ex_pixel\n",
    "    dim2_cut_min = dim2_center - ex_pixel\n",
    "    dim2_cut_max = dim2_center + ex_pixel\n",
    "\n",
    "    if dim1_cut_min < 0:\n",
    "        dim1_cut_min = 0\n",
    "    if dim2_cut_min < 0:\n",
    "        dim2_cut_min = 0\n",
    "    if dim1_cut_max > c1_size:\n",
    "        dim1_cut_max = c1_size\n",
    "    if dim2_cut_max > c1_size:\n",
    "        dim2_cut_max = c1_size\n",
    "    return [dim1_cut_min,dim1_cut_max,dim2_cut_min,dim2_cut_max]\n",
    "\n",
    "\n",
    "if __name__ == '__main__':\n",
    "    \"\"\"处理的逻辑:\n",
    "    1)读取图片,有mask则读取mask\n",
    "    2)图片预处理,比如去黑边的操作,保留去黑边的坐标index1\n",
    "    3)cascade1,使用TTA,预测mask(后续可以加后处理,如cascadePSP)\n",
    "    4)预测mask的roi,上下左右随机外扩不同像素,相当于一种tta,然后储存tta外扩像素细节到一个list,为index2\n",
    "    5)cascade2,使用TTA,在抠出图基础上(resize到256)进行预测,之后还原大小,(后续可以加后处理,如cascadePSP)\n",
    "    6)根据index2,还原分割结果到原位置,再根据index1,还原到最初位置\n",
    "    7)和mask计算指标\n",
    "    \"\"\"\n",
    "    saveas = 'mask' # mask二值图形式保存\n",
    "    # 路径设置\n",
    "    img_path = r'./DDTI/1_or_data/image'\n",
    "    mask_path = r'./DDTI/1_or_data/mask'\n",
    "    fold_id = r'./DDTI/fold1_id.xlsx'\n",
    "\n",
    "    # task_name\n",
    "    task_name = r' '\n",
    "\n",
    "    # cascade参数\n",
    "    weight_c1=r'./DDTI/fold1_stage1_trained_on_size_256.pkl'\n",
    "    weight_c2=r'./DDTI/fold1_stage2_trained_on_size_512.pkl'\n",
    "\n",
    "    c1_size = 256\n",
    "    c1_tta = True\n",
    "    orimg=False\n",
    "\n",
    "    use_c2_flag = True\n",
    "    c2_tta = True\n",
    "    c2_size = 512\n",
    "    c2_resize_order = 0\n",
    "    # GPU\n",
    "    cuda_idx = 2\n",
    "\n",
    "\n",
    "# ===============================================================================================\n",
    "\n",
    "    # 设置GPU相关\n",
    "    os.environ[\"CUDA_DEVICE_ORDER\"] = \"PCI_BUS_ID\"\n",
    "    os.environ[\"CUDA_VISIBLE_DEVICES\"] = str(cuda_idx)\n",
    "\n",
    "\n",
    "    # ===============\n",
    "    device = torch.device('cuda')\n",
    "    # 读取测试集\n",
    "    data_xlsx = xlrd.open_workbook(fold_id)\n",
    "    table = data_xlsx.sheet_by_name('valid')\n",
    "    fold_id_all = [int(table.cell_value(i,0)) for i in range(1,table.nrows)]\n",
    "    test_img_list = get_filelist_frompath(img_path,'PNG',sample_id=fold_id_all)\n",
    "    test_mask_list = [mask_path + sep + i.split(sep)[-1] for i in test_img_list]\n",
    "\n",
    "\n",
    "    # 构建两个模型\n",
    "    with torch.no_grad():\n",
    "        # tta设置\n",
    "        tta_trans = tta.Compose([\n",
    "            tta.VerticalFlip(),\n",
    "            tta.HorizontalFlip(),\n",
    "            tta.Rotate90(angles=[0,180]),\n",
    "        ])\n",
    "        # 构建模型\n",
    "        # cascade1\n",
    "        model_cascade1 = smp.DeepLabV3Plus(encoder_name=\"efficientnet-b6\", encoder_weights=None, in_channels=1, classes=1)\n",
    "        model_cascade1.to(device)\n",
    "        model_cascade1.load_state_dict(torch.load(weight_c1),strict = False)\n",
    "        if c1_tta:\n",
    "            model_cascade1 = tta.SegmentationTTAWrapper(model_cascade1, tta_trans,merge_mode='mean')\n",
    "        model_cascade1.eval()\n",
    "        # cascade2\n",
    "        model_cascade2 = smp.DeepLabV3Plus(encoder_name=\"efficientnet-b6\", encoder_weights=None, in_channels=1, classes=1)\n",
    "        # model_cascade2 = smp.Unet(encoder_name=\"efficientnet-b6\", encoder_weights=None, in_channels=1, classes=1, encoder_depth=5, decoder_attention_type='scse')\n",
    "        # model_cascade2 = smp.PAN(encoder_name=\"efficientnet-b6\",encoder_weights='imagenet',\tin_channels=1, classes=1)\n",
    "        model_cascade2.to(device)\n",
    "        model_cascade2.load_state_dict(torch.load(weight_c2))\n",
    "        if c2_tta:\n",
    "            model_cascade2 = tta.SegmentationTTAWrapper(model_cascade2, tta_trans,merge_mode='mean')\n",
    "        model_cascade2.eval()\n",
    "\n",
    "\n",
    "        # 指标\n",
    "        IOU_list = []\n",
    "        DSC_list = []\n",
    "        ioumin3 = 0\n",
    "\n",
    "        #\n",
    "        for index, img_file in enumerate(test_img_list):\n",
    "            print(task_name,'\\n',img_file,index+1,'/',len(test_img_list),' c1:',c1_size,' c2: ', c2_size)\n",
    "            with torch.no_grad():\n",
    "\n",
    "                # 读取GT数据\n",
    "                if mask_path is not None:\n",
    "                    mask_file = test_mask_list[index]\n",
    "                    GT = Image.open(mask_file)\n",
    "                    Transform_GT = T.Compose([T.ToTensor()])\n",
    "                    GT = Transform_GT(GT)\n",
    "                    GT_array = (torch.squeeze(GT)).data.cpu().numpy()\n",
    "\n",
    "\n",
    "\n",
    "                # 处理原图\n",
    "                img, cut_image_orshape, or_shape, location = TNSCUI_preprocess(img_file,outputsize=c1_size,orimg=orimg)\n",
    "                img = torch.unsqueeze(img, 0)\n",
    "                img = torch.unsqueeze(img, 0)\n",
    "                img = img.to(device)\n",
    "                img_array = (torch.squeeze(img)).data.cpu().numpy()\n",
    "\n",
    "                \"\"\"过一遍cascade1\"\"\"\n",
    "                # 获取cascade1输出\n",
    "                with torch.no_grad():\n",
    "                    mask_c1 = model_cascade1(img)\n",
    "                    mask_c1 = torch.sigmoid(mask_c1)\n",
    "                    mask_c1_array = (torch.squeeze(mask_c1)).data.cpu().numpy()\n",
    "                    mask_c1_array = (mask_c1_array>0.5)\n",
    "                    mask_c1_array = mask_c1_array.astype(np.float32)\n",
    "                    # 获取最大联通域\n",
    "                    mask_c1_array_biggest = largestConnectComponent(mask_c1_array.astype(np.int))\n",
    "                    print(\"c1 outputsize:\",mask_c1_array_biggest.shape)\n",
    "\n",
    "\n",
    "\n",
    "                \"\"\"过一遍cascade2\"\"\"\n",
    "                with torch.no_grad():\n",
    "                    if use_c2_flag:\n",
    "                        # 获取roi的bounding box坐标\n",
    "                        dim1_cut_min, dim1_cut_max, dim2_cut_min, dim2_cut_max = preprocess(mask_c1_array_biggest,c1_size)\n",
    "                        # 根据roi的bounding box坐标，获取img区域\n",
    "                        img_array_roi = img_array[dim1_cut_min:dim1_cut_max,dim2_cut_min:dim2_cut_max]\n",
    "                        img_array_roi_shape = img_array_roi.shape\n",
    "                        img_array_roi = resize(img_array_roi, (c2_size, c2_size), order=3)\n",
    "                        img_array_roi_tensor = torch.tensor(data = img_array_roi,dtype=img.dtype)\n",
    "                        img_array_roi_tensor = torch.unsqueeze(img_array_roi_tensor,0)\n",
    "                        img_array_roi_tensor = torch.unsqueeze(img_array_roi_tensor,0).to(device)\n",
    "                        # 获取cascade2输出,并还原大小\n",
    "                        print('use cascade2')\n",
    "                        mask_c2 = model_cascade2(img_array_roi_tensor)\n",
    "                        mask_c2 = torch.sigmoid(mask_c2)\n",
    "                        mask_c2_array = (torch.squeeze(mask_c2)).data.cpu().numpy()\n",
    "                        if saveas == 'mask':\n",
    "                            cascade2_t = 0.5\n",
    "                            mask_c2_array = (mask_c2_array>cascade2_t)\n",
    "                            print(cascade2_t)\n",
    "                        mask_c2_array = mask_c2_array.astype(np.float32)\n",
    "                        mask_c2_array = resize(mask_c2_array, img_array_roi_shape, order=c2_resize_order)\n",
    "                        # 放回cascade1输出的mask\n",
    "                        mask_c1_array_biggest[dim1_cut_min:dim1_cut_max, dim2_cut_min:dim2_cut_max] = mask_c2_array\n",
    "                        mask_c1_array_biggest = mask_c1_array_biggest.astype(np.float32)\n",
    "                        print(np.unique(mask_c1_array_biggest))\n",
    "                        print(np.sum(mask_c1_array_biggest))\n",
    "\n",
    "\n",
    "                # 根据预处理信息，首先还原到原始size，之后放回原图位置\n",
    "                mask_c1_array_biggest = mask_c1_array_biggest.astype(np.float32)\n",
    "                final_mask = np.zeros(shape=or_shape, dtype=mask_c1_array_biggest.dtype)\n",
    "                mask_c1_array_biggest = resize(mask_c1_array_biggest, cut_image_orshape, order=1)\n",
    "                final_mask[location[0]:location[1],location[2]:location[3]]=mask_c1_array_biggest\n",
    "\n",
    "\n",
    "\n",
    "                # 变成二值图\n",
    "                if saveas == 'mask':\n",
    "                    final_mask = (final_mask > 0.5)\n",
    "                    # final_mask = (final_mask > 0.05)\n",
    "                final_mask = final_mask.astype(np.float32)\n",
    "                print(np.unique(final_mask))\n",
    "                print(np.sum(final_mask))\n",
    "\n",
    "\n",
    "                # 如果有GT的话，计算指标\n",
    "                if mask_path is not None:\n",
    "                    if getIOU(final_mask, GT_array)<0.3:\n",
    "                        ioumin3 = ioumin3+1\n",
    "                    IOU_list.append(getIOU(final_mask, GT_array))\n",
    "                    print('IOU:',getIOU(final_mask, GT_array))\n",
    "                    IOU_final = np.mean(IOU_list)\n",
    "                    print('IOU_final',IOU_final)\n",
    "\n",
    "                    DSC_list.append(getDSC(final_mask, GT_array))\n",
    "                    print('DSC:',getDSC(final_mask, GT_array))\n",
    "                    DSC_final = np.mean(DSC_list)\n",
    "                    print('DSC_final',DSC_final)\n",
    "\n",
    "                if mask_file.split(sep)[-1]=='qwe.PNG':\n",
    "                    break\n",
    "\n",
    "\n",
    "\n",
    "    print((ioumin3))\n",
    "\n",
    "    import matplotlib.pyplot as plt\n",
    "    plt.subplot(1, 4, 1)\n",
    "    plt.imshow(mask_c1_array, cmap=plt.cm.gray)\n",
    "    plt.subplot(1, 4, 2)\n",
    "    plt.imshow(img_array, cmap=plt.cm.gray)\n",
    "\n",
    "    plt.subplot(1, 4, 3)\n",
    "    plt.imshow(final_mask, cmap=plt.cm.gray)\n",
    "    # plt.imshow(final_mask,cmap=plt.cm.gray)\n",
    "    plt.subplot(1, 4, 4)\n",
    "    plt.imshow(final_mask-GT_array, cmap=plt.cm.gray)\n",
    "    plt.show()"
   ]
  },
  {
   "cell_type": "code",
   "execution_count": null,
   "metadata": {},
   "outputs": [],
   "source": [
    ""
   ]
  }
 ],
 "metadata": {
  "kernelspec": {
   "display_name": "Python 2",
   "language": "python",
   "name": "python2"
  },
  "language_info": {
   "codemirror_mode": {
    "name": "ipython",
    "version": 2
   },
   "file_extension": ".py",
   "mimetype": "text/x-python",
   "name": "python",
   "nbconvert_exporter": "python",
   "pygments_lexer": "ipython2",
   "version": "2.7.6"
  }
 },
 "nbformat": 4,
 "nbformat_minor": 0
}
